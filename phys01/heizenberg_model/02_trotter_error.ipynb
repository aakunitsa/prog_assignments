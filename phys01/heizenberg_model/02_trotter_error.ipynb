{
 "cells": [
  {
   "cell_type": "code",
   "execution_count": 60,
   "metadata": {},
   "outputs": [],
   "source": [
    "from openfermion import get_sparse_operator\n",
    "import numpy as np\n",
    "import pandas as pd\n",
    "from numpy.linalg import eigh\n",
    "from numpy.random import randn\n",
    "from utlis import *"
   ]
  },
  {
   "cell_type": "code",
   "execution_count": 77,
   "metadata": {},
   "outputs": [],
   "source": [
    "# Simulate time evolution\n",
    "# System definition\n",
    "chain_length = 5\n",
    "couplings = [1., 2., 1.5]\n",
    "hh = create_heizenberg_h(couplings, n_spins=chain_length)\n",
    "\n",
    "# Diagonalization\n",
    "hh_matrix_sp = get_sparse_operator(hh, n_qubits=5)\n",
    "hh_matrix = hh_matrix_sp.toarray()\n",
    "\n",
    "assert np.allclose(hh_matrix, hh_matrix.T)\n",
    "e, v = eigh(hh_matrix)\n",
    "t_total = 10. / (np.max(e) - np.min(e))\n",
    "\n",
    "# Parameters\n",
    "n_trotter_max = 20\n",
    "init_state = randn(2**chain_length)\n",
    "init_state /= np.sqrt(np.dot(init_state, init_state))\n",
    "\n",
    "# Exact propagator\n",
    "prop_exact = create_exact_propagator(hh, t_total)\n",
    "time_evolved_state = prop_exact @ init_state\n",
    "\n",
    "# Simulation\n",
    "results = []\n",
    "for n_trotter in range(1, n_trotter_max + 1):\n",
    "    time_step = t_total / n_trotter\n",
    "    prop1 = trotterized_propagator1(couplings, chain_length, time_step)\n",
    "    prop2 = trotterized_propagator2(couplings, chain_length, time_step)\n",
    "    \n",
    "    state1 = np.copy(init_state)\n",
    "    state2 = np.copy(init_state)\n",
    "    \n",
    "    # Apply propagators\n",
    "    for _ in range(n_trotter):\n",
    "        state1 = prop1 @ state1\n",
    "        state2 = prop2 @ state2\n",
    "        \n",
    "    error1  = np.sqrt(np.dot(np.conj(state1 - time_evolved_state), state1 - time_evolved_state))\n",
    "    results.append(\n",
    "        {'num_trotter' : n_trotter, 'error' : error1, 'method' : 'Method1'}\n",
    "    )\n",
    "    error2  = np.sqrt(np.dot(np.conj(state2 - time_evolved_state), state2 - time_evolved_state))\n",
    "    results.append(\n",
    "        {'num_trotter' : n_trotter, 'error' : error2, 'method' : 'Method2'}\n",
    "    )\n",
    "    \n",
    "results = pd.DataFrame(results)"
   ]
  },
  {
   "cell_type": "code",
   "execution_count": 78,
   "metadata": {},
   "outputs": [
    {
     "data": {
      "text/html": [
       "<div>\n",
       "<style scoped>\n",
       "    .dataframe tbody tr th:only-of-type {\n",
       "        vertical-align: middle;\n",
       "    }\n",
       "\n",
       "    .dataframe tbody tr th {\n",
       "        vertical-align: top;\n",
       "    }\n",
       "\n",
       "    .dataframe thead th {\n",
       "        text-align: right;\n",
       "    }\n",
       "</style>\n",
       "<table border=\"1\" class=\"dataframe\">\n",
       "  <thead>\n",
       "    <tr style=\"text-align: right;\">\n",
       "      <th></th>\n",
       "      <th>num_trotter</th>\n",
       "      <th>error</th>\n",
       "      <th>method</th>\n",
       "    </tr>\n",
       "  </thead>\n",
       "  <tbody>\n",
       "    <tr>\n",
       "      <th>0</th>\n",
       "      <td>1</td>\n",
       "      <td>1.162370+0.000000j</td>\n",
       "      <td>Method1</td>\n",
       "    </tr>\n",
       "    <tr>\n",
       "      <th>1</th>\n",
       "      <td>1</td>\n",
       "      <td>0.946087+0.000000j</td>\n",
       "      <td>Method2</td>\n",
       "    </tr>\n",
       "    <tr>\n",
       "      <th>2</th>\n",
       "      <td>2</td>\n",
       "      <td>0.622159+0.000000j</td>\n",
       "      <td>Method1</td>\n",
       "    </tr>\n",
       "    <tr>\n",
       "      <th>3</th>\n",
       "      <td>2</td>\n",
       "      <td>0.423561+0.000000j</td>\n",
       "      <td>Method2</td>\n",
       "    </tr>\n",
       "    <tr>\n",
       "      <th>4</th>\n",
       "      <td>3</td>\n",
       "      <td>0.421134+0.000000j</td>\n",
       "      <td>Method1</td>\n",
       "    </tr>\n",
       "  </tbody>\n",
       "</table>\n",
       "</div>"
      ],
      "text/plain": [
       "   num_trotter               error   method\n",
       "0            1  1.162370+0.000000j  Method1\n",
       "1            1  0.946087+0.000000j  Method2\n",
       "2            2  0.622159+0.000000j  Method1\n",
       "3            2  0.423561+0.000000j  Method2\n",
       "4            3  0.421134+0.000000j  Method1"
      ]
     },
     "execution_count": 78,
     "metadata": {},
     "output_type": "execute_result"
    }
   ],
   "source": [
    "results.head()"
   ]
  },
  {
   "cell_type": "code",
   "execution_count": 79,
   "metadata": {},
   "outputs": [],
   "source": [
    "results_method1 = results.query('method == \"Method1\"')\n",
    "results_method2 = results.query('method == \"Method2\"')"
   ]
  },
  {
   "cell_type": "code",
   "execution_count": 80,
   "metadata": {},
   "outputs": [
    {
     "name": "stderr",
     "output_type": "stream",
     "text": [
      "/home/akunitsa/local/miniconda3/envs/ionq/lib/python3.10/site-packages/matplotlib/cbook.py:1762: ComplexWarning: Casting complex values to real discards the imaginary part\n",
      "  return math.isfinite(val)\n",
      "/home/akunitsa/local/miniconda3/envs/ionq/lib/python3.10/site-packages/matplotlib/cbook.py:1398: ComplexWarning: Casting complex values to real discards the imaginary part\n",
      "  return np.asarray(x, float)\n",
      "/home/akunitsa/local/miniconda3/envs/ionq/lib/python3.10/site-packages/matplotlib/cbook.py:1762: ComplexWarning: Casting complex values to real discards the imaginary part\n",
      "  return math.isfinite(val)\n",
      "/home/akunitsa/local/miniconda3/envs/ionq/lib/python3.10/site-packages/matplotlib/cbook.py:1398: ComplexWarning: Casting complex values to real discards the imaginary part\n",
      "  return np.asarray(x, float)\n"
     ]
    },
    {
     "data": {
      "text/plain": [
       "<Axes: xlabel='num_trotter', ylabel='Trotter error'>"
      ]
     },
     "execution_count": 80,
     "metadata": {},
     "output_type": "execute_result"
    },
    {
     "data": {
      "image/png": "[encoded data removed]",
      "text/plain": [
       "<Figure size 640x480 with 1 Axes>"
      ]
     },
     "metadata": {},
     "output_type": "display_data"
    }
   ],
   "source": [
    "ax = results_method1.plot(x='num_trotter', y='error', ylabel='Trotter error', marker='o', label='Method1')\n",
    "results_method2.plot(x='num_trotter', y='error', marker='o', label='Method2', ax=ax)"
   ]
  },
  {
   "cell_type": "code",
   "execution_count": null,
   "metadata": {},
   "outputs": [],
   "source": []
  }
 ],
 "metadata": {
  "kernelspec": {
   "display_name": "ionq",
   "language": "python",
   "name": "python3"
  },
  "language_info": {
   "codemirror_mode": {
    "name": "ipython",
    "version": 3
   },
   "file_extension": ".py",
   "mimetype": "text/x-python",
   "name": "python",
   "nbconvert_exporter": "python",
   "pygments_lexer": "ipython3",
   "version": "3.10.15"
  }
 },
 "nbformat": 4,
 "nbformat_minor": 2
}
