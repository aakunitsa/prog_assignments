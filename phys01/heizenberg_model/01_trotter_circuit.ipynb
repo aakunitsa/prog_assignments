{
 "cells": [
  {
   "cell_type": "markdown",
   "metadata": {},
   "source": [
    "### Description\n",
    "\n",
    "This notebook demonstrates how to create a circuit for simulating unitary dynamics of a 1-D Heizenberg spin-1/2 chain with the nearest-neighbour interactions described by the following Hamiltonian:\n",
    "\n",
    "$$\n",
    "H_{HZ} = -\\sum_{\\alpha} J_{\\alpha} \\sum_{i = 1}^{N - 1} \\sigma_i^{\\alpha} \\otimes \\sigma_{i+1}^{\\alpha},\n",
    "$$\n",
    "\n",
    "where $\\alpha \\in \\{X, Y, Z\\}$ and $\\sigma_i^{\\alpha}$ denote Pauli matrices acting on i-th spin. Here, I implemented the evolution operator $U_{HZ} = e^{-itH_{HZ}}$ using an n-step (first-order)Trotter  decomposition. Since not all terms in $H_{HZ}$ commute, different factorizations of $U_{HZ}$ are possible based on how mutually commuting terms are grouped (different groupings lead to different approximation errors). One possibility is to split $H_{HZ}$ into a sum of pariwise interactions and define an evolution operator for each pair. The pair propagators can be written as products of exponentials\n",
    "\n",
    "$$\n",
    "U_{i, i+1} = \\prod_{\\alpha} e^{itJ_{\\alpha}\\sigma_i^{\\alpha} \\otimes \\sigma_{i+1}^{\\alpha}}\n",
    "$$\n",
    "\n",
    "and implemented as a circuit with at most 3 CNOT gates [https://arxiv.org/pdf/quant-ph/0308006]. For the sake of time, I chose a sub-optimal implementation which uses 4 CNOTs which is still better than a straightforward textbook method (it would require 6 CNOTs). The pair blocks are then arranged into layers as shown in the diagram to complete circuit construction:\n",
    "<div style=\"text-align: center;\">\n",
    "  <img src=\"circuit_diagram.png\" alt=\"Trotter Ciruict\">\n",
    "</div>\n",
    "\n",
    "(orange blocks correspond to spin pairs (0,1), (2, 3), etc. Blue blocks correspond the complementary set of pairs)."
   ]
  },
  {
   "cell_type": "markdown",
   "metadata": {},
   "source": [
    "### Comments\n",
    "\n",
    "- Alternative Trotter schemes are possible. For example, one could group the terms corresponding to the same spin projection. In a supplementary notebook I show that such scheme is expected to give a slightly larger Trotter error compared to the one described above. \n",
    "- Using symmetry properties (Yang-Baxter equation) of the Trotter circuits they can be further compressed to enable **constant depth simulation of 1-D Heizenberg chains**. Further details can be found in Gulania et al. [https://arxiv.org/pdf/2112.01690] and Bassman et al. [https://arxiv.org/pdf/2103.07429]. An implementation of the circuit compression: https://github.com/ZichangHe/QuYBE [https://arxiv.org/abs/2212.06948]"
   ]
  },
  {
   "cell_type": "code",
   "execution_count": 15,
   "metadata": {},
   "outputs": [],
   "source": [
    "import cirq\n",
    "import numpy as np\n",
    "from circuits import UnitaryEvolution2Site\n",
    "from typing import List"
   ]
  },
  {
   "cell_type": "code",
   "execution_count": 13,
   "metadata": {},
   "outputs": [],
   "source": [
    "#help(cirq.LineQubit)\n",
    "#help(cirq.GridQubit)"
   ]
  },
  {
   "cell_type": "code",
   "execution_count": 18,
   "metadata": {},
   "outputs": [],
   "source": [
    "def create_trotter_circuit(j: np.array, total_time: float, n_trotter: int, qubits: List[cirq.LineQubit]) -> cirq.Circuit:\n",
    "    '''Create a circuit for simulating time evolution of a 1-D Heizenberg chain using Trotter approximation\n",
    "    for the propagator. \n",
    "    '''\n",
    "    \n",
    "    circuit = cirq.Circuit()\n",
    "    dt = total_time / n_trotter # time step for a single Trotter factor\n",
    "    n_qubits = len(qubits)\n",
    "    angles = j * dt\n",
    "    \n",
    "    for _  in range(n_trotter):\n",
    "        first_sublayer = cirq.Moment([\n",
    "            UnitaryEvolution2Site(angles).on(qubits[i], qubits[i+1]) for i in range(0, n_qubits - 1, 2)\n",
    "            ])\n",
    "        second_sublayer = cirq.Moment([\n",
    "            UnitaryEvolution2Site(angles).on(qubits[i], qubits[i+1]) for i in range(1, n_qubits - 1, 2)\n",
    "            ])\n",
    "        circuit.append([first_sublayer, second_sublayer])\n",
    "        \n",
    "    return circuit"
   ]
  },
  {
   "cell_type": "code",
   "execution_count": 21,
   "metadata": {},
   "outputs": [],
   "source": [
    "# Demo\n",
    "qubits = cirq.LineQubit.range(6)\n",
    "couplings = np.array([1., 2., -1.5])\n",
    "evolution_time = 1.5\n",
    "n_trotter_steps = 2\n",
    "\n",
    "trotter_circuit = create_trotter_circuit(j=couplings, total_time=evolution_time, n_trotter=n_trotter_steps, qubits=qubits)"
   ]
  },
  {
   "cell_type": "code",
   "execution_count": 22,
   "metadata": {},
   "outputs": [
    {
     "name": "stdout",
     "output_type": "stream",
     "text": [
      "0: ───Uh────────Uh────────\n",
      "      │         │\n",
      "1: ───Uh───Uh───Uh───Uh───\n",
      "           │         │\n",
      "2: ───Uh───Uh───Uh───Uh───\n",
      "      │         │\n",
      "3: ───Uh───Uh───Uh───Uh───\n",
      "           │         │\n",
      "4: ───Uh───Uh───Uh───Uh───\n",
      "      │         │\n",
      "5: ───Uh────────Uh────────\n"
     ]
    }
   ],
   "source": [
    "print(trotter_circuit)"
   ]
  },
  {
   "cell_type": "code",
   "execution_count": null,
   "metadata": {},
   "outputs": [],
   "source": []
  }
 ],
 "metadata": {
  "kernelspec": {
   "display_name": "ionq",
   "language": "python",
   "name": "python3"
  },
  "language_info": {
   "codemirror_mode": {
    "name": "ipython",
    "version": 3
   },
   "file_extension": ".py",
   "mimetype": "text/x-python",
   "name": "python",
   "nbconvert_exporter": "python",
   "pygments_lexer": "ipython3",
   "version": "3.10.15"
  }
 },
 "nbformat": 4,
 "nbformat_minor": 2
}
